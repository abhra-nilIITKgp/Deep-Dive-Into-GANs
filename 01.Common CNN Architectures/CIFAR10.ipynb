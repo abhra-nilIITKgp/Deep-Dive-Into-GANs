{
 "cells": [
  {
   "cell_type": "code",
   "execution_count": 2,
   "metadata": {},
   "outputs": [],
   "source": [
    "import torch\n",
    "from torch import nn\n",
    "import torch.nn.functional as F\n",
    "import torchvision\n",
    "import torchvision.transforms as transforms\n",
    "import torch.optim as optim"
   ]
  },
  {
   "cell_type": "code",
   "execution_count": 3,
   "metadata": {
    "scrolled": true
   },
   "outputs": [
    {
     "name": "stdout",
     "output_type": "stream",
     "text": [
      "Files already downloaded and verified\n",
      "Files already downloaded and verified\n"
     ]
    }
   ],
   "source": [
    "batch_size = 32\n",
    "\n",
    "transform = transforms.Compose([transforms.ToTensor(), transforms.Normalize((.5, .5, .5), (.5, .5, .5))])\n",
    "\n",
    "trainset = torchvision.datasets.CIFAR10(root = './data', download = True, train = True, transform = transform)\n",
    "trainloader = torch.utils.data.DataLoader(trainset, batch_size = batch_size, shuffle = True, num_workers=2)\n",
    "\n",
    "testset = torchvision.datasets.CIFAR10(root = './data', download = True, train = False, transform = transform)\n",
    "testloader = torch.utils.data.DataLoader(testset, batch_size = batch_size, shuffle = True, num_workers=2)\n"
   ]
  },
  {
   "cell_type": "code",
   "execution_count": 6,
   "metadata": {},
   "outputs": [
    {
     "data": {
      "text/plain": [
       "313"
      ]
     },
     "execution_count": 6,
     "metadata": {},
     "output_type": "execute_result"
    }
   ],
   "source": [
    "len(testloader)"
   ]
  },
  {
   "cell_type": "code",
   "execution_count": 7,
   "metadata": {},
   "outputs": [],
   "source": [
    "class Net(nn.Module):\n",
    "    \n",
    "    def __init__(self):\n",
    "        super(Net, self).__init__()\n",
    "        self.conv2d_l1 = nn.Conv2d(3, 32, 3)\n",
    "        self.bn_l1 = nn.BatchNorm2d(32)\n",
    "        self.conv2d_l2 = nn.Conv2d(32, 32, 3)\n",
    "        self.bn_l2 = nn.BatchNorm2d(32)\n",
    "        self.maxpool_l2 = nn.MaxPool2d(2)\n",
    "        self.dropout_l2 = nn.Dropout2d(0.2)\n",
    "        \n",
    "        self.conv2d_l3 = nn.Conv2d(32, 64, 3)\n",
    "        self.bn_l3 = nn.BatchNorm2d(64)\n",
    "        self.conv2d_l4 = nn.Conv2d(64, 64, 3)\n",
    "        self.bn_l4 = nn.BatchNorm2d(64)\n",
    "        self.maxpool_l4 = nn.MaxPool2d(2)\n",
    "        self.dropout_l4 = nn.Dropout2d(0.3)\n",
    "        \n",
    "        self.conv2d_l5 = nn.Conv2d(64, 128, 3)\n",
    "        self.bn_l5 = nn.BatchNorm2d(128)\n",
    "        self.conv2d_l6 = nn.Conv2d(128, 128, 3)\n",
    "        self.bn_l6 = nn.BatchNorm2d(128)\n",
    "        self.maxpool_l6 = nn.MaxPool2d(2)\n",
    "        self.dropout_l6 = nn.Dropout2d(0.4)\n",
    "        \n",
    "        self.fc1 = nn.Linear(2048, 512)\n",
    "        self.fc2 = nn.Linear(512, 10)\n",
    "        \n",
    "        self.samePad = nn.ZeroPad2d(1)\n",
    "        \n",
    "    def forward(self, x):\n",
    "        \n",
    "        x = F.leaky_relu(self.bn_l1(self.conv2d_l1(self.samePad(x))))\n",
    "        x = F.leaky_relu(self.bn_l2(self.conv2d_l2(self.samePad(x))))\n",
    "        x = self.dropout_l2(self.maxpool_l2(x))\n",
    "        \n",
    "        x = F.leaky_relu(self.bn_l3(self.conv2d_l3(self.samePad(x))))\n",
    "        x = F.leaky_relu(self.bn_l4(self.conv2d_l4(self.samePad(x))))\n",
    "        x = self.dropout_l4(self.maxpool_l4(x))\n",
    "        \n",
    "        x = F.leaky_relu(self.bn_l5(self.conv2d_l5(self.samePad(x))))\n",
    "        x = F.leaky_relu(self.bn_l6(self.conv2d_l6(self.samePad(x))))\n",
    "        x = self.dropout_l6(self.maxpool_l6(x))\n",
    "        \n",
    "        x = x.view(-1,2048)\n",
    "        x = F.leaky_relu(self.fc1(x))\n",
    "        x = F.leaky_relu(self.fc2(x))\n",
    "        x = F.log_softmax(x, dim=-1)\n",
    "        \n",
    "        return x\n",
    "model = Net()      "
   ]
  },
  {
   "cell_type": "code",
   "execution_count": 8,
   "metadata": {},
   "outputs": [
    {
     "name": "stdout",
     "output_type": "stream",
     "text": [
      "cuda:0\n"
     ]
    }
   ],
   "source": [
    "device = torch.device(\"cuda:0\" if torch.cuda.is_available() else \"cpu\")\n",
    "# device = torch.device('cpu')\n",
    "print(device)"
   ]
  },
  {
   "cell_type": "code",
   "execution_count": 9,
   "metadata": {},
   "outputs": [],
   "source": [
    "model = model.to(device)"
   ]
  },
  {
   "cell_type": "code",
   "execution_count": 10,
   "metadata": {},
   "outputs": [],
   "source": [
    "learning_rate = 0.001\n",
    "criterion = nn.CrossEntropyLoss()\n",
    "optimizer = optim.Adam(model.parameters(), lr = learning_rate)\n",
    "scheduler = optim.lr_scheduler.MultiStepLR(optimizer, milestones=[30,50,80], gamma=0.3)"
   ]
  },
  {
   "cell_type": "code",
   "execution_count": 11,
   "metadata": {
    "scrolled": true
   },
   "outputs": [
    {
     "name": "stdout",
     "output_type": "stream",
     "text": [
      "[1,   200] loss: 2.1884397 accuracy: [1297, 6400] (20 %)\n",
      "[1,   400] loss: 1.8997445 accuracy: [2005, 6400] (31 %)\n",
      "[1,   600] loss: 1.6916031 accuracy: [2416, 6400] (37 %)\n",
      "[1,   800] loss: 1.5882624 accuracy: [2632, 6400] (41 %)\n",
      "[1,  1000] loss: 1.5244598 accuracy: [2775, 6400] (43 %)\n",
      "[1,  1200] loss: 1.4405664 accuracy: [3032, 6400] (47 %)\n"
     ]
    },
    {
     "ename": "KeyboardInterrupt",
     "evalue": "",
     "output_type": "error",
     "traceback": [
      "\u001b[0;31m---------------------------------------------------------------------------\u001b[0m",
      "\u001b[0;31mKeyboardInterrupt\u001b[0m                         Traceback (most recent call last)",
      "\u001b[0;32m<ipython-input-11-8bcf5ffce8c4>\u001b[0m in \u001b[0;36m<module>\u001b[0;34m()\u001b[0m\n\u001b[1;32m     24\u001b[0m \u001b[0;34m\u001b[0m\u001b[0m\n\u001b[1;32m     25\u001b[0m         \u001b[0;31m# print statistics\u001b[0m\u001b[0;34m\u001b[0m\u001b[0;34m\u001b[0m\u001b[0;34m\u001b[0m\u001b[0m\n\u001b[0;32m---> 26\u001b[0;31m         \u001b[0mrunning_loss\u001b[0m \u001b[0;34m+=\u001b[0m \u001b[0mloss\u001b[0m\u001b[0;34m.\u001b[0m\u001b[0mitem\u001b[0m\u001b[0;34m(\u001b[0m\u001b[0;34m)\u001b[0m\u001b[0;34m\u001b[0m\u001b[0;34m\u001b[0m\u001b[0m\n\u001b[0m\u001b[1;32m     27\u001b[0m         \u001b[0mc\u001b[0m \u001b[0;34m=\u001b[0m \u001b[0;34m(\u001b[0m\u001b[0mtorch\u001b[0m\u001b[0;34m.\u001b[0m\u001b[0margmax\u001b[0m\u001b[0;34m(\u001b[0m\u001b[0moutputs\u001b[0m\u001b[0;34m,\u001b[0m\u001b[0;36m1\u001b[0m\u001b[0;34m)\u001b[0m \u001b[0;34m==\u001b[0m \u001b[0mlabels\u001b[0m\u001b[0;34m)\u001b[0m\u001b[0;34m\u001b[0m\u001b[0;34m\u001b[0m\u001b[0m\n\u001b[1;32m     28\u001b[0m         \u001b[0mcorrect\u001b[0m \u001b[0;34m+=\u001b[0m \u001b[0mtorch\u001b[0m\u001b[0;34m.\u001b[0m\u001b[0msum\u001b[0m\u001b[0;34m(\u001b[0m\u001b[0mc\u001b[0m\u001b[0;34m)\u001b[0m\u001b[0;34m\u001b[0m\u001b[0;34m\u001b[0m\u001b[0m\n",
      "\u001b[0;31mKeyboardInterrupt\u001b[0m: "
     ]
    }
   ],
   "source": [
    "model.train()\n",
    "\n",
    "for epoch in range(85):\n",
    "    \n",
    "    running_loss = 0.0\n",
    "    correct, total = 0, 0\n",
    "    correct_epoch, total_epoch = 0, 0\n",
    "    \n",
    "    scheduler.step()\n",
    "    \n",
    "    for i, data in enumerate(trainloader, 0):\n",
    "        # get the inputs; data is a list of [inputs, labels]\n",
    "        \n",
    "        inputs, labels = data[0].to(device), data[1].to(device)\n",
    "\n",
    "        # zero the parameter gradients\n",
    "        optimizer.zero_grad()\n",
    "\n",
    "        # forward + backward + optimize\n",
    "        outputs = model(inputs)\n",
    "        loss = criterion(outputs, labels)\n",
    "        loss.backward()\n",
    "        optimizer.step()\n",
    "\n",
    "        # print statistics\n",
    "        running_loss += loss.item()\n",
    "        c = (torch.argmax(outputs,1) == labels)\n",
    "        correct += torch.sum(c)\n",
    "        total += 32\n",
    "        correct_epoch += torch.sum(c)\n",
    "        total_epoch += 32\n",
    "        \n",
    "        if i % 200 == 199:    # print every 200 mini-batches\n",
    "            print('[%d, %5d] loss: %.7f accuracy: [%d, %d] (%d %%)' % (epoch + 1, i + 1, running_loss / 200, correct, total, 100*correct/total))\n",
    "            running_loss = 0.0\n",
    "            correct = 0\n",
    "            total = 0\n",
    "    \n",
    "    print('<=========== accuracy after {} epoch is [{:d} {:d}] ({:d} %%) ===========>)'.format(epoch+1, correct_epoch, total_epoch, 100*correct_epoch/total_epoch))\n",
    "\n",
    "print('Finished Training')\n"
   ]
  },
  {
   "cell_type": "code",
   "execution_count": 63,
   "metadata": {},
   "outputs": [],
   "source": [
    "torch.save(model.state_dict(), 'mymodel')"
   ]
  }
 ],
 "metadata": {
  "kernelspec": {
   "display_name": "Python 3",
   "language": "python",
   "name": "python3"
  },
  "language_info": {
   "codemirror_mode": {
    "name": "ipython",
    "version": 3
   },
   "file_extension": ".py",
   "mimetype": "text/x-python",
   "name": "python",
   "nbconvert_exporter": "python",
   "pygments_lexer": "ipython3",
   "version": "3.7.3"
  }
 },
 "nbformat": 4,
 "nbformat_minor": 2
}
