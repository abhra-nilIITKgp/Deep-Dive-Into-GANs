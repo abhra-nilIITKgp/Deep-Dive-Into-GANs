{
 "cells": [
  {
   "cell_type": "code",
   "execution_count": 2,
   "metadata": {
    "scrolled": true
   },
   "outputs": [],
   "source": [
    "from __future__ import print_function\n",
    "import argparse\n",
    "import torch\n",
    "import torch.nn as nn\n",
    "import torch.nn.functional as F\n",
    "import torch.optim as optim\n",
    "from torchvision import datasets,  transforms\n",
    "import torchvision\n",
    "import matplotlib.pyplot as plt\n",
    "import numpy as np"
   ]
  },
  {
   "cell_type": "code",
   "execution_count": 18,
   "metadata": {},
   "outputs": [],
   "source": [
    "class Net(nn.Module):\n",
    "    \n",
    "    def __init__(self):\n",
    "        super().__init__()\n",
    "        self.pad1 = nn.ZeroPad2d(2)\n",
    "        self.conv1 = nn.Conv2d(1, 6, 5, bias = False)\n",
    "        self.conv2 = nn.Conv2d(6, 16, 5, bias = False)\n",
    "        self.conv3 = nn.Conv2d(16, 120, 5, bias = False)\n",
    "        self.fc1 = nn.Linear(120, 84)\n",
    "        self.fc2 = nn.Linear(84, 10)\n",
    "        \n",
    "    def forward(self, x):\n",
    "        x = self.pad1(x)\n",
    "        x = F.avg_pool2d(F.relu(self.conv1(x)), 2)\n",
    "        x = F.avg_pool2d(F.relu(self.conv2(x)), 2)\n",
    "        x = F.relu(self.conv3(x))\n",
    "        x = x.view(-1, 120)\n",
    "        x = F.relu(self.fc1(x))\n",
    "        x = self.fc2(x)\n",
    "        x = F.log_softmax(x, dim = 1)\n",
    "        return x\n",
    "    "
   ]
  },
  {
   "cell_type": "code",
   "execution_count": 19,
   "metadata": {},
   "outputs": [
    {
     "name": "stdout",
     "output_type": "stream",
     "text": [
      "cpu\n"
     ]
    }
   ],
   "source": [
    "# device = torch.device(\"cuda:0\" if torch.cuda.is_available() else \"cpu\")\n",
    "device = torch.device('cpu')\n",
    "print(device)"
   ]
  },
  {
   "cell_type": "code",
   "execution_count": 20,
   "metadata": {},
   "outputs": [],
   "source": [
    "model = Net().to(device)\n",
    "criterion = nn.CrossEntropyLoss()\n",
    "optimizer = optim.Adam(model.parameters(), lr = 0.01)"
   ]
  },
  {
   "cell_type": "code",
   "execution_count": 21,
   "metadata": {},
   "outputs": [],
   "source": [
    "transform = transforms.Compose([transforms.ToTensor()])\n",
    "\n",
    "trainset = datasets.MNIST(root='./data', train=True,\n",
    "                                        download=True, transform=transform)\n",
    "trainloader = torch.utils.data.DataLoader(trainset, batch_size=4,\n",
    "                                          shuffle=True, num_workers=2)\n",
    "\n",
    "testset = datasets.MNIST(root='./data', train=False,\n",
    "                                       download=True, transform=transform)\n",
    "testloader = torch.utils.data.DataLoader(testset, batch_size=4,\n",
    "                                         shuffle=False, num_workers=2)\n"
   ]
  },
  {
   "cell_type": "code",
   "execution_count": 22,
   "metadata": {},
   "outputs": [
    {
     "name": "stdout",
     "output_type": "stream",
     "text": [
      "torch.Size([4, 1, 28, 28])\n"
     ]
    }
   ],
   "source": [
    "for i, data in enumerate(trainloader):\n",
    "    inputs, labels = data\n",
    "    print(inputs.shape)\n",
    "    break"
   ]
  },
  {
   "cell_type": "code",
   "execution_count": 23,
   "metadata": {},
   "outputs": [
    {
     "name": "stdout",
     "output_type": "stream",
     "text": [
      "[1  2000] loss: 0.0001917\n",
      "[1  4000] loss: 0.0000634\n",
      "[1  6000] loss: 0.0001461\n",
      "[1  8000] loss: 0.0000000\n",
      "[1 10000] loss: 0.0000001\n",
      "[1 12000] loss: 0.0000003\n",
      "[1 14000] loss: 0.0000147\n",
      "[2  2000] loss: 0.0000000\n",
      "[2  4000] loss: 0.0000000\n",
      "[2  6000] loss: 0.0000002\n",
      "[2  8000] loss: 0.0000629\n",
      "[2 10000] loss: 0.0000006\n",
      "[2 12000] loss: 0.0000001\n",
      "[2 14000] loss: 0.0000003\n",
      "Finished Training\n"
     ]
    }
   ],
   "source": [
    "model.train()\n",
    "for epoch in range(2):\n",
    "    \n",
    "    running_loss = 0.0\n",
    "    for i, data in enumerate(trainloader):\n",
    "        \n",
    "        inputs, labels = data[0].to(device), data[1].to(device)\n",
    "        optimizer.zero_grad()\n",
    "        \n",
    "        outputs = model(inputs)\n",
    "        loss = criterion(outputs, labels)\n",
    "        loss.backward()\n",
    "        optimizer.step()\n",
    "        \n",
    "        running_loss += loss.item()\n",
    "        if(i%2000 ==1999):\n",
    "            print('[%d %5d] loss: %.7f' % (epoch+1, i+1, running_loss/2000))\n",
    "        running_loss = 0.0    \n",
    "        \n",
    "print('Finished Training')"
   ]
  },
  {
   "cell_type": "code",
   "execution_count": 24,
   "metadata": {},
   "outputs": [
    {
     "name": "stdout",
     "output_type": "stream",
     "text": [
      "Accuracy of 0 : 98 %\n",
      "Accuracy of 1 : 98 %\n",
      "Accuracy of 2 : 96 %\n",
      "Accuracy of 3 : 96 %\n",
      "Accuracy of 4 : 94 %\n",
      "Accuracy of 5 : 95 %\n",
      "Accuracy of 6 : 97 %\n",
      "Accuracy of 7 : 97 %\n",
      "Accuracy of 8 : 95 %\n",
      "Accuracy of 9 : 94 %\n",
      "accuracy of test set is 96.57 %\n"
     ]
    }
   ],
   "source": [
    "model.eval()\n",
    "class_correct = list( 0.0 for i in range(10))\n",
    "class_total = list(0.0 for i in range(10))\n",
    "correct = 0.0\n",
    "total = 0.0\n",
    "\n",
    "\n",
    "with torch.no_grad():\n",
    "  for data in testloader:\n",
    "    input, labels = data\n",
    "    output_raw = model(input)\n",
    "    output = torch.argmax(output_raw,1)\n",
    "    c = (output == labels)\n",
    "    \n",
    "    for i in range(4):\n",
    "      label = labels[i]\n",
    "      class_correct[label] += c[i].item()\n",
    "      class_total[label] += 1\n",
    "      correct += c[i].item()\n",
    "      total +=1\n",
    "      \n",
    "\n",
    "for i in range(10):\n",
    "    print('Accuracy of %1d : %2d %%' % (\n",
    "        i, 100 * class_correct[i] / class_total[i]))\n",
    "    \n",
    "print ('accuracy of test set is %2.2f %%' % (correct/total*100))"
   ]
  },
  {
   "cell_type": "code",
   "execution_count": 25,
   "metadata": {},
   "outputs": [],
   "source": [
    "def imshow(img):\n",
    "#     img = img / 2 + 0.5     # unnormalize\n",
    "    npimg = img.numpy()\n",
    "    plt.imshow(np.transpose(npimg, (1, 2, 0)))\n",
    "    plt.show()"
   ]
  },
  {
   "cell_type": "code",
   "execution_count": 26,
   "metadata": {},
   "outputs": [],
   "source": [
    "dataiter = iter(testloader)"
   ]
  },
  {
   "cell_type": "code",
   "execution_count": 77,
   "metadata": {},
   "outputs": [
    {
     "data": {
      "image/png": "[encoded data removed]",
      "text/plain": [
       "<Figure size 432x288 with 1 Axes>"
      ]
     },
     "metadata": {
      "needs_background": "light"
     },
     "output_type": "display_data"
    },
    {
     "name": "stdout",
     "output_type": "stream",
     "text": [
      "tensor([6, 0, 3, 4])\n",
      "tensor([[-2.3083e+02, -2.1052e+02, -2.0586e+02, -3.3400e+02, -1.8890e+02,\n",
      "         -2.1470e+02,  0.0000e+00, -3.4939e+02, -2.2448e+02, -3.1782e+02],\n",
      "        [ 0.0000e+00, -7.1155e+01, -3.0598e+01, -1.1237e+02, -4.0471e+01,\n",
      "         -9.2396e+01, -2.2262e+01, -4.4681e+01, -2.8259e+01, -3.0956e+01],\n",
      "        [-5.1855e+01, -2.8720e+01, -1.3549e+01, -3.8147e-05, -3.4353e+01,\n",
      "         -2.7036e+01, -5.6658e+01, -2.1905e+01, -1.0211e+01, -2.8754e+01],\n",
      "        [-4.6931e+01, -4.3650e+01, -2.4516e+01, -7.8368e+01,  0.0000e+00,\n",
      "         -5.5987e+01, -3.1546e+01, -3.7364e+01, -2.5911e+01, -2.3235e+01]],\n",
      "       grad_fn=<LogSoftmaxBackward>)\n",
      "tensor([6, 0, 3, 4])\n",
      "tensor([1, 1, 1, 1], dtype=torch.uint8)\n"
     ]
    }
   ],
   "source": [
    "input, labels = dataiter.next()\n",
    "imshow(torchvision.utils.make_grid(input))\n",
    "print(labels)\n",
    "print\n",
    "output = model(input)\n",
    "print(output)\n",
    "\n",
    "out = torch.argmax(output, 1)\n",
    "print(out)\n",
    "\n",
    "print(out == labels)"
   ]
  }
 ],
 "metadata": {
  "kernelspec": {
   "display_name": "Python 3",
   "language": "python",
   "name": "python3"
  },
  "language_info": {
   "codemirror_mode": {
    "name": "ipython",
    "version": 3
   },
   "file_extension": ".py",
   "mimetype": "text/x-python",
   "name": "python",
   "nbconvert_exporter": "python",
   "pygments_lexer": "ipython3",
   "version": "3.7.3"
  }
 },
 "nbformat": 4,
 "nbformat_minor": 2
}
